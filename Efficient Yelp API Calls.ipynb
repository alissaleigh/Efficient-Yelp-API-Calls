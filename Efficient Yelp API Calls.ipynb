{
 "cells": [
  {
   "cell_type": "code",
   "execution_count": 1,
   "id": "bed4b6a4",
   "metadata": {},
   "outputs": [],
   "source": [
    "import numpy as np\n",
    "import pandas as pd\n",
    "import matplotlib.pyplot as plt\n",
    "import seaborn as sns\n",
    "import os, json, math, time\n",
    "\n",
    "from yelpapi import YelpAPI\n",
    "from tqdm.notebook import tqdm_notebook"
   ]
  },
  {
   "cell_type": "code",
   "execution_count": 2,
   "id": "043845b3",
   "metadata": {},
   "outputs": [
    {
     "data": {
      "text/plain": [
       "dict_keys(['client-id', 'api-key'])"
      ]
     },
     "execution_count": 2,
     "metadata": {},
     "output_type": "execute_result"
    }
   ],
   "source": [
    "with open(\"c:/Users/aliss/.secret/yelp_api.json\") as f:\n",
    "    login = json.load(f)\n",
    "login.keys()"
   ]
  },
  {
   "cell_type": "code",
   "execution_count": 3,
   "id": "b2e759ea",
   "metadata": {},
   "outputs": [
    {
     "data": {
      "text/plain": [
       "<yelpapi.yelpapi.YelpAPI at 0x28d26e8c910>"
      ]
     },
     "execution_count": 3,
     "metadata": {},
     "output_type": "execute_result"
    }
   ],
   "source": [
    "yelp_api = YelpAPI(login['api-key'], timeout_s=5.0)\n",
    "yelp_api"
   ]
  },
  {
   "cell_type": "code",
   "execution_count": 4,
   "id": "06f1f1b9",
   "metadata": {},
   "outputs": [],
   "source": [
    "location='Reno, NV'\n",
    "term='pizza'"
   ]
  },
  {
   "cell_type": "code",
   "execution_count": 5,
   "id": "2de29251",
   "metadata": {},
   "outputs": [
    {
     "data": {
      "text/plain": [
       "'Data/results_reno_pizza.json'"
      ]
     },
     "execution_count": 5,
     "metadata": {},
     "output_type": "execute_result"
    }
   ],
   "source": [
    "JSON_FILE = \"Data/results_reno_pizza.json\"\n",
    "JSON_FILE"
   ]
  },
  {
   "cell_type": "code",
   "execution_count": 6,
   "id": "bcb3fd7b",
   "metadata": {},
   "outputs": [
    {
     "name": "stdout",
     "output_type": "stream",
     "text": [
      "[i] Data/results_reno_pizza.json not found. Saving empty list to file.\n"
     ]
    }
   ],
   "source": [
    "file_exists = os.path.isfile(JSON_FILE)\n",
    "\n",
    "if file_exists == False:\n",
    "    \n",
    "    folder = os.path.dirname(JSON_FILE)\n",
    "    if len(folder)>0:\n",
    "        os.makedirs(folder,exist_ok=True)\n",
    "        \n",
    "\n",
    "    print(f'[i] {JSON_FILE} not found. Saving empty list to file.')\n",
    "    \n",
    "\n",
    "    with open(JSON_FILE,'w') as f:\n",
    "        json.dump([],f)  \n",
    "\n",
    "else:\n",
    "    print(f\"[i] {JSON_FILE} already exists.\")\n"
   ]
  },
  {
   "cell_type": "code",
   "execution_count": 7,
   "id": "2406537a",
   "metadata": {},
   "outputs": [
    {
     "name": "stdout",
     "output_type": "stream",
     "text": [
      "- 0 previous results found.\n"
     ]
    }
   ],
   "source": [
    "with open(JSON_FILE,'r') as f:\n",
    "    previous_results = json.load(f)\n",
    "\n",
    "n_results = len(previous_results)\n",
    "print(f'- {n_results} previous results found.')"
   ]
  },
  {
   "cell_type": "code",
   "execution_count": 8,
   "id": "5f57fabd",
   "metadata": {},
   "outputs": [
    {
     "data": {
      "text/plain": [
       "dict_keys(['businesses', 'total', 'region'])"
      ]
     },
     "execution_count": 8,
     "metadata": {},
     "output_type": "execute_result"
    }
   ],
   "source": [
    "results = yelp_api.search_query(location='Reno, NV',\n",
    "                                term='pizza',\n",
    "                               offset=n_results)\n",
    "results.keys()"
   ]
  },
  {
   "cell_type": "code",
   "execution_count": 9,
   "id": "86693dc0",
   "metadata": {},
   "outputs": [
    {
     "data": {
      "text/plain": [
       "782"
      ]
     },
     "execution_count": 9,
     "metadata": {},
     "output_type": "execute_result"
    }
   ],
   "source": [
    "total_results = results['total']\n",
    "total_results"
   ]
  },
  {
   "cell_type": "code",
   "execution_count": 10,
   "id": "087d6bde",
   "metadata": {},
   "outputs": [
    {
     "data": {
      "text/plain": [
       "20"
      ]
     },
     "execution_count": 10,
     "metadata": {},
     "output_type": "execute_result"
    }
   ],
   "source": [
    "results_per_page = len(results['businesses'])\n",
    "results_per_page"
   ]
  },
  {
   "cell_type": "code",
   "execution_count": 11,
   "id": "9f2eed3c",
   "metadata": {},
   "outputs": [
    {
     "data": {
      "text/plain": [
       "40"
      ]
     },
     "execution_count": 11,
     "metadata": {},
     "output_type": "execute_result"
    }
   ],
   "source": [
    "n_pages = math.ceil((results['total']-n_results)/ results_per_page)\n",
    "n_pages"
   ]
  },
  {
   "cell_type": "code",
   "execution_count": 12,
   "id": "dd0da5b7",
   "metadata": {},
   "outputs": [],
   "source": [
    "previous_results.extend(results['businesses'])  \n",
    "with open(JSON_FILE,'w') as f:\n",
    "     json.dump(previous_results,f)"
   ]
  },
  {
   "cell_type": "code",
   "execution_count": 13,
   "id": "b23370dc",
   "metadata": {},
   "outputs": [
    {
     "data": {
      "application/vnd.jupyter.widget-view+json": {
       "model_id": "7e428cca564445db8e8b518d90f439d4",
       "version_major": 2,
       "version_minor": 0
      },
      "text/plain": [
       "  0%|          | 0/40 [00:00<?, ?it/s]"
      ]
     },
     "metadata": {},
     "output_type": "display_data"
    }
   ],
   "source": [
    "for i in tqdm_notebook(range(n_pages)):\\\n",
    "    \n",
    "    time.sleep(.2) "
   ]
  },
  {
   "cell_type": "code",
   "execution_count": 14,
   "id": "a3d1bc99",
   "metadata": {},
   "outputs": [
    {
     "data": {
      "application/vnd.jupyter.widget-view+json": {
       "model_id": "15cfe68ee2da4c02866355fad2c86039",
       "version_major": 2,
       "version_minor": 0
      },
      "text/plain": [
       "  0%|          | 0/40 [00:00<?, ?it/s]"
      ]
     },
     "metadata": {},
     "output_type": "display_data"
    }
   ],
   "source": [
    "for i in tqdm_notebook( range(1,n_pages+1)):\n",
    "    \n",
    "    with open(JSON_FILE, 'r') as f:\n",
    "        previous_results = json.load(f)\n",
    "    n_results = len(previous_results)\n",
    "    results = yelp_api.search_query(location='Reno, NV',\n",
    "                                    term='pizza',\n",
    "                                    offset=n_results)\n",
    "\n",
    "    \n",
    "    previous_results.extend(results['businesses'])\n",
    "    \n",
    "    with open(JSON_FILE,'w') as f:\n",
    "        json.dump(previous_results,f)\n",
    "\n",
    "        \n",
    "    time.sleep(.2)"
   ]
  },
  {
   "cell_type": "code",
   "execution_count": 15,
   "id": "9c3870bf",
   "metadata": {},
   "outputs": [
    {
     "data": {
      "text/html": [
       "<div>\n",
       "<style scoped>\n",
       "    .dataframe tbody tr th:only-of-type {\n",
       "        vertical-align: middle;\n",
       "    }\n",
       "\n",
       "    .dataframe tbody tr th {\n",
       "        vertical-align: top;\n",
       "    }\n",
       "\n",
       "    .dataframe thead th {\n",
       "        text-align: right;\n",
       "    }\n",
       "</style>\n",
       "<table border=\"1\" class=\"dataframe\">\n",
       "  <thead>\n",
       "    <tr style=\"text-align: right;\">\n",
       "      <th></th>\n",
       "      <th>id</th>\n",
       "      <th>alias</th>\n",
       "      <th>name</th>\n",
       "      <th>image_url</th>\n",
       "      <th>is_closed</th>\n",
       "      <th>url</th>\n",
       "      <th>review_count</th>\n",
       "      <th>categories</th>\n",
       "      <th>rating</th>\n",
       "      <th>coordinates</th>\n",
       "      <th>transactions</th>\n",
       "      <th>price</th>\n",
       "      <th>location</th>\n",
       "      <th>phone</th>\n",
       "      <th>display_phone</th>\n",
       "      <th>distance</th>\n",
       "    </tr>\n",
       "  </thead>\n",
       "  <tbody>\n",
       "    <tr>\n",
       "      <th>0</th>\n",
       "      <td>OR7VJQ3Nk1wCcIbPN4TCQQ</td>\n",
       "      <td>smiling-with-hope-pizza-reno</td>\n",
       "      <td>Smiling With Hope Pizza</td>\n",
       "      <td>https://s3-media1.fl.yelpcdn.com/bphoto/OeDgVu...</td>\n",
       "      <td>False</td>\n",
       "      <td>https://www.yelp.com/biz/smiling-with-hope-piz...</td>\n",
       "      <td>595</td>\n",
       "      <td>[{'alias': 'pizza', 'title': 'Pizza'}, {'alias...</td>\n",
       "      <td>5.0</td>\n",
       "      <td>{'latitude': 39.471879, 'longitude': -119.808947}</td>\n",
       "      <td>[delivery]</td>\n",
       "      <td>$$</td>\n",
       "      <td>{'address1': '6135 Lakeside Dr', 'address2': '...</td>\n",
       "      <td>+17758251070</td>\n",
       "      <td>(775) 825-1070</td>\n",
       "      <td>9451.361833</td>\n",
       "    </tr>\n",
       "    <tr>\n",
       "      <th>1</th>\n",
       "      <td>LuBb4esTZw_luv37Q0QpIg</td>\n",
       "      <td>r-town-pizza-reno-2</td>\n",
       "      <td>R Town Pizza</td>\n",
       "      <td>https://s3-media3.fl.yelpcdn.com/bphoto/vdb8pj...</td>\n",
       "      <td>False</td>\n",
       "      <td>https://www.yelp.com/biz/r-town-pizza-reno-2?a...</td>\n",
       "      <td>165</td>\n",
       "      <td>[{'alias': 'pizza', 'title': 'Pizza'}, {'alias...</td>\n",
       "      <td>4.5</td>\n",
       "      <td>{'latitude': 39.48708, 'longitude': -119.79786}</td>\n",
       "      <td>[pickup, delivery]</td>\n",
       "      <td>$$</td>\n",
       "      <td>{'address1': '180 W Peckham Ln', 'address2': '...</td>\n",
       "      <td>+17756228838</td>\n",
       "      <td>(775) 622-8838</td>\n",
       "      <td>8380.851556</td>\n",
       "    </tr>\n",
       "    <tr>\n",
       "      <th>2</th>\n",
       "      <td>W72rYffSVg0pIaOpRgNniw</td>\n",
       "      <td>grimaldis-pizzeria-sparks</td>\n",
       "      <td>Grimaldi's Pizzeria</td>\n",
       "      <td>https://s3-media1.fl.yelpcdn.com/bphoto/0BAecv...</td>\n",
       "      <td>False</td>\n",
       "      <td>https://www.yelp.com/biz/grimaldis-pizzeria-sp...</td>\n",
       "      <td>810</td>\n",
       "      <td>[{'alias': 'pizza', 'title': 'Pizza'}, {'alias...</td>\n",
       "      <td>4.0</td>\n",
       "      <td>{'latitude': 39.53109267, 'longitude': -119.72...</td>\n",
       "      <td>[delivery, pickup]</td>\n",
       "      <td>$$</td>\n",
       "      <td>{'address1': '1180 Scheels Dr', 'address2': 'S...</td>\n",
       "      <td>+17753567373</td>\n",
       "      <td>(775) 356-7373</td>\n",
       "      <td>11337.185580</td>\n",
       "    </tr>\n",
       "    <tr>\n",
       "      <th>3</th>\n",
       "      <td>IaQEUsz-a4NEZyTg4PiaTA</td>\n",
       "      <td>ricks-pizza-beer-and-more-reno-11</td>\n",
       "      <td>Rick's Pizza, Beer, &amp; More</td>\n",
       "      <td>https://s3-media1.fl.yelpcdn.com/bphoto/pXGJsw...</td>\n",
       "      <td>False</td>\n",
       "      <td>https://www.yelp.com/biz/ricks-pizza-beer-and-...</td>\n",
       "      <td>260</td>\n",
       "      <td>[{'alias': 'pizza', 'title': 'Pizza'}, {'alias...</td>\n",
       "      <td>4.5</td>\n",
       "      <td>{'latitude': 39.54076, 'longitude': -119.81748}</td>\n",
       "      <td>[delivery]</td>\n",
       "      <td>$$</td>\n",
       "      <td>{'address1': '1305 N Virginia St', 'address2':...</td>\n",
       "      <td>+17754205259</td>\n",
       "      <td>(775) 420-5259</td>\n",
       "      <td>3188.175200</td>\n",
       "    </tr>\n",
       "    <tr>\n",
       "      <th>4</th>\n",
       "      <td>HQmvpld1zlz-Q1ym8pRWAw</td>\n",
       "      <td>dopo-pizza-and-pasta-reno-4</td>\n",
       "      <td>DOPO Pizza &amp; Pasta</td>\n",
       "      <td>https://s3-media2.fl.yelpcdn.com/bphoto/26101C...</td>\n",
       "      <td>False</td>\n",
       "      <td>https://www.yelp.com/biz/dopo-pizza-and-pasta-...</td>\n",
       "      <td>224</td>\n",
       "      <td>[{'alias': 'pizza', 'title': 'Pizza'}, {'alias...</td>\n",
       "      <td>4.5</td>\n",
       "      <td>{'latitude': 39.518132589740254, 'longitude': ...</td>\n",
       "      <td>[]</td>\n",
       "      <td>$$</td>\n",
       "      <td>{'address1': '18 St Lawrence Ave', 'address2':...</td>\n",
       "      <td>+17758488180</td>\n",
       "      <td>(775) 848-8180</td>\n",
       "      <td>5106.672668</td>\n",
       "    </tr>\n",
       "  </tbody>\n",
       "</table>\n",
       "</div>"
      ],
      "text/plain": [
       "                       id                              alias  \\\n",
       "0  OR7VJQ3Nk1wCcIbPN4TCQQ       smiling-with-hope-pizza-reno   \n",
       "1  LuBb4esTZw_luv37Q0QpIg                r-town-pizza-reno-2   \n",
       "2  W72rYffSVg0pIaOpRgNniw          grimaldis-pizzeria-sparks   \n",
       "3  IaQEUsz-a4NEZyTg4PiaTA  ricks-pizza-beer-and-more-reno-11   \n",
       "4  HQmvpld1zlz-Q1ym8pRWAw        dopo-pizza-and-pasta-reno-4   \n",
       "\n",
       "                         name  \\\n",
       "0     Smiling With Hope Pizza   \n",
       "1                R Town Pizza   \n",
       "2         Grimaldi's Pizzeria   \n",
       "3  Rick's Pizza, Beer, & More   \n",
       "4          DOPO Pizza & Pasta   \n",
       "\n",
       "                                           image_url  is_closed  \\\n",
       "0  https://s3-media1.fl.yelpcdn.com/bphoto/OeDgVu...      False   \n",
       "1  https://s3-media3.fl.yelpcdn.com/bphoto/vdb8pj...      False   \n",
       "2  https://s3-media1.fl.yelpcdn.com/bphoto/0BAecv...      False   \n",
       "3  https://s3-media1.fl.yelpcdn.com/bphoto/pXGJsw...      False   \n",
       "4  https://s3-media2.fl.yelpcdn.com/bphoto/26101C...      False   \n",
       "\n",
       "                                                 url  review_count  \\\n",
       "0  https://www.yelp.com/biz/smiling-with-hope-piz...           595   \n",
       "1  https://www.yelp.com/biz/r-town-pizza-reno-2?a...           165   \n",
       "2  https://www.yelp.com/biz/grimaldis-pizzeria-sp...           810   \n",
       "3  https://www.yelp.com/biz/ricks-pizza-beer-and-...           260   \n",
       "4  https://www.yelp.com/biz/dopo-pizza-and-pasta-...           224   \n",
       "\n",
       "                                          categories  rating  \\\n",
       "0  [{'alias': 'pizza', 'title': 'Pizza'}, {'alias...     5.0   \n",
       "1  [{'alias': 'pizza', 'title': 'Pizza'}, {'alias...     4.5   \n",
       "2  [{'alias': 'pizza', 'title': 'Pizza'}, {'alias...     4.0   \n",
       "3  [{'alias': 'pizza', 'title': 'Pizza'}, {'alias...     4.5   \n",
       "4  [{'alias': 'pizza', 'title': 'Pizza'}, {'alias...     4.5   \n",
       "\n",
       "                                         coordinates        transactions  \\\n",
       "0  {'latitude': 39.471879, 'longitude': -119.808947}          [delivery]   \n",
       "1    {'latitude': 39.48708, 'longitude': -119.79786}  [pickup, delivery]   \n",
       "2  {'latitude': 39.53109267, 'longitude': -119.72...  [delivery, pickup]   \n",
       "3    {'latitude': 39.54076, 'longitude': -119.81748}          [delivery]   \n",
       "4  {'latitude': 39.518132589740254, 'longitude': ...                  []   \n",
       "\n",
       "  price                                           location         phone  \\\n",
       "0    $$  {'address1': '6135 Lakeside Dr', 'address2': '...  +17758251070   \n",
       "1    $$  {'address1': '180 W Peckham Ln', 'address2': '...  +17756228838   \n",
       "2    $$  {'address1': '1180 Scheels Dr', 'address2': 'S...  +17753567373   \n",
       "3    $$  {'address1': '1305 N Virginia St', 'address2':...  +17754205259   \n",
       "4    $$  {'address1': '18 St Lawrence Ave', 'address2':...  +17758488180   \n",
       "\n",
       "    display_phone      distance  \n",
       "0  (775) 825-1070   9451.361833  \n",
       "1  (775) 622-8838   8380.851556  \n",
       "2  (775) 356-7373  11337.185580  \n",
       "3  (775) 420-5259   3188.175200  \n",
       "4  (775) 848-8180   5106.672668  "
      ]
     },
     "metadata": {},
     "output_type": "display_data"
    },
    {
     "data": {
      "text/html": [
       "<div>\n",
       "<style scoped>\n",
       "    .dataframe tbody tr th:only-of-type {\n",
       "        vertical-align: middle;\n",
       "    }\n",
       "\n",
       "    .dataframe tbody tr th {\n",
       "        vertical-align: top;\n",
       "    }\n",
       "\n",
       "    .dataframe thead th {\n",
       "        text-align: right;\n",
       "    }\n",
       "</style>\n",
       "<table border=\"1\" class=\"dataframe\">\n",
       "  <thead>\n",
       "    <tr style=\"text-align: right;\">\n",
       "      <th></th>\n",
       "      <th>id</th>\n",
       "      <th>alias</th>\n",
       "      <th>name</th>\n",
       "      <th>image_url</th>\n",
       "      <th>is_closed</th>\n",
       "      <th>url</th>\n",
       "      <th>review_count</th>\n",
       "      <th>categories</th>\n",
       "      <th>rating</th>\n",
       "      <th>coordinates</th>\n",
       "      <th>transactions</th>\n",
       "      <th>price</th>\n",
       "      <th>location</th>\n",
       "      <th>phone</th>\n",
       "      <th>display_phone</th>\n",
       "      <th>distance</th>\n",
       "    </tr>\n",
       "  </thead>\n",
       "  <tbody>\n",
       "    <tr>\n",
       "      <th>777</th>\n",
       "      <td>kuH4X3lfyu9tUZ2KChfEiQ</td>\n",
       "      <td>baskin-robbins-31-flavors-carson-city</td>\n",
       "      <td>Baskin-Robbins 31 Flavors</td>\n",
       "      <td>https://s3-media2.fl.yelpcdn.com/bphoto/x5lrxV...</td>\n",
       "      <td>False</td>\n",
       "      <td>https://www.yelp.com/biz/baskin-robbins-31-fla...</td>\n",
       "      <td>58</td>\n",
       "      <td>[{'alias': 'icecream', 'title': 'Ice Cream &amp; F...</td>\n",
       "      <td>2.0</td>\n",
       "      <td>{'latitude': 39.13011, 'longitude': -119.76956}</td>\n",
       "      <td>[delivery]</td>\n",
       "      <td>$</td>\n",
       "      <td>{'address1': '3947 S Carson St', 'address2': '...</td>\n",
       "      <td>+17758858830</td>\n",
       "      <td>(775) 885-8830</td>\n",
       "      <td>47216.354551</td>\n",
       "    </tr>\n",
       "    <tr>\n",
       "      <th>778</th>\n",
       "      <td>rg-RDEchUDMY_hG0leTPlQ</td>\n",
       "      <td>starbucks-carson-city-6</td>\n",
       "      <td>Starbucks</td>\n",
       "      <td>https://s3-media1.fl.yelpcdn.com/bphoto/bkWt6z...</td>\n",
       "      <td>False</td>\n",
       "      <td>https://www.yelp.com/biz/starbucks-carson-city...</td>\n",
       "      <td>25</td>\n",
       "      <td>[{'alias': 'coffee', 'title': 'Coffee &amp; Tea'}]</td>\n",
       "      <td>3.5</td>\n",
       "      <td>{'latitude': 39.187812, 'longitude': -119.772549}</td>\n",
       "      <td>[delivery]</td>\n",
       "      <td>$$</td>\n",
       "      <td>{'address1': '3228 N Carson St', 'address2': '...</td>\n",
       "      <td>+17758416557</td>\n",
       "      <td>(775) 841-6557</td>\n",
       "      <td>40848.359724</td>\n",
       "    </tr>\n",
       "    <tr>\n",
       "      <th>779</th>\n",
       "      <td>J92UPRVQCBWL3I23z009rw</td>\n",
       "      <td>keva-juice-carson-city</td>\n",
       "      <td>Keva Juice</td>\n",
       "      <td>https://s3-media1.fl.yelpcdn.com/bphoto/vQC0tp...</td>\n",
       "      <td>False</td>\n",
       "      <td>https://www.yelp.com/biz/keva-juice-carson-cit...</td>\n",
       "      <td>61</td>\n",
       "      <td>[{'alias': 'juicebars', 'title': 'Juice Bars &amp;...</td>\n",
       "      <td>3.0</td>\n",
       "      <td>{'latitude': 39.1455245293959, 'longitude': -1...</td>\n",
       "      <td>[delivery, pickup]</td>\n",
       "      <td>$</td>\n",
       "      <td>{'address1': '2320 S Carson St', 'address2': '...</td>\n",
       "      <td>+17758836444</td>\n",
       "      <td>(775) 883-6444</td>\n",
       "      <td>45548.255587</td>\n",
       "    </tr>\n",
       "    <tr>\n",
       "      <th>780</th>\n",
       "      <td>_HxR2XccgygF4j-oJOM5YQ</td>\n",
       "      <td>taco-bell-carson-city-5</td>\n",
       "      <td>Taco Bell</td>\n",
       "      <td>https://s3-media4.fl.yelpcdn.com/bphoto/n-fnN9...</td>\n",
       "      <td>False</td>\n",
       "      <td>https://www.yelp.com/biz/taco-bell-carson-city...</td>\n",
       "      <td>29</td>\n",
       "      <td>[{'alias': 'mexican', 'title': 'Mexican'}, {'a...</td>\n",
       "      <td>2.5</td>\n",
       "      <td>{'latitude': 39.129811, 'longitude': -119.770453}</td>\n",
       "      <td>[delivery]</td>\n",
       "      <td>$</td>\n",
       "      <td>{'address1': '4050 S Carson St.', 'address2': ...</td>\n",
       "      <td>+17758412876</td>\n",
       "      <td>(775) 841-2876</td>\n",
       "      <td>47245.129043</td>\n",
       "    </tr>\n",
       "    <tr>\n",
       "      <th>781</th>\n",
       "      <td>YfDUXK_ax_fbYIEbok8eRw</td>\n",
       "      <td>subway-south-lake-tahoe-6</td>\n",
       "      <td>Subway</td>\n",
       "      <td>https://s3-media2.fl.yelpcdn.com/bphoto/mEE8iw...</td>\n",
       "      <td>False</td>\n",
       "      <td>https://www.yelp.com/biz/subway-south-lake-tah...</td>\n",
       "      <td>40</td>\n",
       "      <td>[{'alias': 'sandwiches', 'title': 'Sandwiches'...</td>\n",
       "      <td>2.0</td>\n",
       "      <td>{'latitude': 38.912775, 'longitude': -120.0037...</td>\n",
       "      <td>[]</td>\n",
       "      <td>$</td>\n",
       "      <td>{'address1': '1019 Emerald Bay Rd', 'address2'...</td>\n",
       "      <td>+15305441102</td>\n",
       "      <td>(530) 544-1102</td>\n",
       "      <td>72034.132612</td>\n",
       "    </tr>\n",
       "  </tbody>\n",
       "</table>\n",
       "</div>"
      ],
      "text/plain": [
       "                         id                                  alias  \\\n",
       "777  kuH4X3lfyu9tUZ2KChfEiQ  baskin-robbins-31-flavors-carson-city   \n",
       "778  rg-RDEchUDMY_hG0leTPlQ                starbucks-carson-city-6   \n",
       "779  J92UPRVQCBWL3I23z009rw                 keva-juice-carson-city   \n",
       "780  _HxR2XccgygF4j-oJOM5YQ                taco-bell-carson-city-5   \n",
       "781  YfDUXK_ax_fbYIEbok8eRw              subway-south-lake-tahoe-6   \n",
       "\n",
       "                          name  \\\n",
       "777  Baskin-Robbins 31 Flavors   \n",
       "778                  Starbucks   \n",
       "779                 Keva Juice   \n",
       "780                  Taco Bell   \n",
       "781                     Subway   \n",
       "\n",
       "                                             image_url  is_closed  \\\n",
       "777  https://s3-media2.fl.yelpcdn.com/bphoto/x5lrxV...      False   \n",
       "778  https://s3-media1.fl.yelpcdn.com/bphoto/bkWt6z...      False   \n",
       "779  https://s3-media1.fl.yelpcdn.com/bphoto/vQC0tp...      False   \n",
       "780  https://s3-media4.fl.yelpcdn.com/bphoto/n-fnN9...      False   \n",
       "781  https://s3-media2.fl.yelpcdn.com/bphoto/mEE8iw...      False   \n",
       "\n",
       "                                                   url  review_count  \\\n",
       "777  https://www.yelp.com/biz/baskin-robbins-31-fla...            58   \n",
       "778  https://www.yelp.com/biz/starbucks-carson-city...            25   \n",
       "779  https://www.yelp.com/biz/keva-juice-carson-cit...            61   \n",
       "780  https://www.yelp.com/biz/taco-bell-carson-city...            29   \n",
       "781  https://www.yelp.com/biz/subway-south-lake-tah...            40   \n",
       "\n",
       "                                            categories  rating  \\\n",
       "777  [{'alias': 'icecream', 'title': 'Ice Cream & F...     2.0   \n",
       "778     [{'alias': 'coffee', 'title': 'Coffee & Tea'}]     3.5   \n",
       "779  [{'alias': 'juicebars', 'title': 'Juice Bars &...     3.0   \n",
       "780  [{'alias': 'mexican', 'title': 'Mexican'}, {'a...     2.5   \n",
       "781  [{'alias': 'sandwiches', 'title': 'Sandwiches'...     2.0   \n",
       "\n",
       "                                           coordinates        transactions  \\\n",
       "777    {'latitude': 39.13011, 'longitude': -119.76956}          [delivery]   \n",
       "778  {'latitude': 39.187812, 'longitude': -119.772549}          [delivery]   \n",
       "779  {'latitude': 39.1455245293959, 'longitude': -1...  [delivery, pickup]   \n",
       "780  {'latitude': 39.129811, 'longitude': -119.770453}          [delivery]   \n",
       "781  {'latitude': 38.912775, 'longitude': -120.0037...                  []   \n",
       "\n",
       "    price                                           location         phone  \\\n",
       "777     $  {'address1': '3947 S Carson St', 'address2': '...  +17758858830   \n",
       "778    $$  {'address1': '3228 N Carson St', 'address2': '...  +17758416557   \n",
       "779     $  {'address1': '2320 S Carson St', 'address2': '...  +17758836444   \n",
       "780     $  {'address1': '4050 S Carson St.', 'address2': ...  +17758412876   \n",
       "781     $  {'address1': '1019 Emerald Bay Rd', 'address2'...  +15305441102   \n",
       "\n",
       "      display_phone      distance  \n",
       "777  (775) 885-8830  47216.354551  \n",
       "778  (775) 841-6557  40848.359724  \n",
       "779  (775) 883-6444  45548.255587  \n",
       "780  (775) 841-2876  47245.129043  \n",
       "781  (530) 544-1102  72034.132612  "
      ]
     },
     "metadata": {},
     "output_type": "display_data"
    }
   ],
   "source": [
    "final_df = pd.read_json(JSON_FILE)\n",
    "display(final_df.head(), final_df.tail())"
   ]
  },
  {
   "cell_type": "code",
   "execution_count": 16,
   "id": "654ec2bc",
   "metadata": {},
   "outputs": [
    {
     "data": {
      "text/plain": [
       "0"
      ]
     },
     "execution_count": 16,
     "metadata": {},
     "output_type": "execute_result"
    }
   ],
   "source": [
    "final_df.duplicated(subset='id').sum()"
   ]
  },
  {
   "cell_type": "code",
   "execution_count": 17,
   "id": "96ee7795",
   "metadata": {},
   "outputs": [
    {
     "data": {
      "text/plain": [
       "0"
      ]
     },
     "execution_count": 17,
     "metadata": {},
     "output_type": "execute_result"
    }
   ],
   "source": [
    "final_df = final_df.drop_duplicates(subset='id')\n",
    "final_df.duplicated(subset='id').sum()"
   ]
  },
  {
   "cell_type": "code",
   "execution_count": 18,
   "id": "6024c193",
   "metadata": {},
   "outputs": [],
   "source": [
    "final_df.to_csv('Data/final_results_reno_pizza.csv.gz', compression='gzip',index=False)"
   ]
  }
 ],
 "metadata": {
  "kernelspec": {
   "display_name": "Python (dojo-env)",
   "language": "python",
   "name": "dojo-env"
  },
  "language_info": {
   "codemirror_mode": {
    "name": "ipython",
    "version": 3
   },
   "file_extension": ".py",
   "mimetype": "text/x-python",
   "name": "python",
   "nbconvert_exporter": "python",
   "pygments_lexer": "ipython3",
   "version": "3.10.9"
  }
 },
 "nbformat": 4,
 "nbformat_minor": 5
}
